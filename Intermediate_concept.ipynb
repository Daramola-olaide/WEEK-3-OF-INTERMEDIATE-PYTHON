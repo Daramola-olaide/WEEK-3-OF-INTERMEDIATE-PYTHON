{
 "cells": [
  {
   "cell_type": "code",
   "execution_count": 2,
   "id": "0ef3374b-ba7e-4c15-9fd0-c37915e34915",
   "metadata": {},
   "outputs": [],
   "source": [
    "#WEEK 3 OF INTERMEDIATE CONCEPT OF PYTHON"
   ]
  },
  {
   "cell_type": "code",
   "execution_count": 1,
   "id": "a2647027-4a2e-459a-b8f5-134b3275c1ad",
   "metadata": {},
   "outputs": [
    {
     "name": "stdin",
     "output_type": "stream",
     "text": [
      "Enter a number 6\n"
     ]
    },
    {
     "name": "stdout",
     "output_type": "stream",
     "text": [
      "1 * 6 = 6\n",
      "2 * 6 = 12\n",
      "3 * 6 = 18\n",
      "4 * 6 = 24\n",
      "5 * 6 = 30\n",
      "6 * 6 = 36\n",
      "7 * 6 = 42\n",
      "8 * 6 = 48\n",
      "9 * 6 = 54\n",
      "10 * 6 = 60\n",
      "11 * 6 = 66\n",
      "12 * 6 = 72\n"
     ]
    }
   ],
   "source": [
    "#1... write a python OOP program to get a number from user to display its table\n",
    "\n",
    "class Table:\n",
    "    def getNum(self):\n",
    "        self.num=int(input(\"Enter a number\"))\n",
    "    def showtable(self):\n",
    "        for i in range(1,13):\n",
    "            print(str(i) + \" * \" + str(self.num) + \" = \" + str(i * self.num))\n",
    "\n",
    "obj=Table()\n",
    "obj.getNum()\n",
    "obj.showtable()\n"
   ]
  },
  {
   "cell_type": "code",
   "execution_count": 1,
   "id": "e04e17d5-6feb-42a2-853b-e502ab550472",
   "metadata": {},
   "outputs": [
    {
     "name": "stdin",
     "output_type": "stream",
     "text": [
      "Enter a number 4\n",
      "Enter a number 5\n",
      "Enter a number 6\n",
      "Enter a number 7\n",
      "Enter a number 8\n"
     ]
    },
    {
     "name": "stdout",
     "output_type": "stream",
     "text": [
      "[4, 5, 6, 7, 8]\n",
      "The power of 3 of the list = [64, 125, 216, 343, 512]\n"
     ]
    }
   ],
   "source": [
    "#2...write a python program to get 5 number from user to store in a list, display all number with power of 3 using list comprehension\n",
    "numbers=[ ]\n",
    "for i in range(5):\n",
    "    numbers.append(int(input(\"Enter a number\")))\n",
    "print(numbers)\n",
    "\n",
    "cube=[ ]\n",
    "cube=[number**3 for number in numbers]\n",
    "print(f\"The power of 3 of the list = {cube}\")\n",
    "\n"
   ]
  },
  {
   "cell_type": "code",
   "execution_count": 48,
   "id": "1ab225e6-f3b2-484b-879a-1de817db94e5",
   "metadata": {},
   "outputs": [
    {
     "name": "stdout",
     "output_type": "stream",
     "text": [
      "[[1 2 3]\n",
      " [4 5 6]\n",
      " [1 3 5]]\n"
     ]
    },
    {
     "name": "stdin",
     "output_type": "stream",
     "text": [
      "enter a number 5\n"
     ]
    },
    {
     "name": "stdout",
     "output_type": "stream",
     "text": [
      "[[ 5 10 15]\n",
      " [20 25 30]\n",
      " [ 5 15 25]]\n"
     ]
    }
   ],
   "source": [
    "#3... write a numpy program to create a two-dimensional array and multiply with any number to that array element. that number \n",
    "#should be taken from user\n",
    "\n",
    "import numpy as np\n",
    "ar=np.array([[1,2,3], [4,5,6],[1,3,5]])\n",
    "print(ar)\n",
    "\n",
    "#get number from user\n",
    "item = int(input(\"Enter a number\"))\n",
    "\n",
    "#multiply number with array\n",
    "new_array = item*ar\n",
    "print(new_array)"
   ]
  },
  {
   "cell_type": "code",
   "execution_count": 6,
   "id": "fa9c7437-8e56-4123-9a1c-af850b048303",
   "metadata": {},
   "outputs": [
    {
     "name": "stdin",
     "output_type": "stream",
     "text": [
      "enter a number wal23\n"
     ]
    },
    {
     "name": "stdout",
     "output_type": "stream",
     "text": [
      "value is valid\n"
     ]
    }
   ],
   "source": [
    "#4... write a python program to make use of isidentifier method with string\n",
    "\n",
    "#get an identifier from user\n",
    "identifier=input(\"enter a number\")\n",
    "if identifier.isidentifier():\n",
    "    print(f\"value is valid\")\n",
    "else:\n",
    "    print(f\"value not valid\")"
   ]
  },
  {
   "cell_type": "code",
   "execution_count": 21,
   "id": "34d8721c-3967-42d9-a97e-e9484ee0d008",
   "metadata": {},
   "outputs": [
    {
     "name": "stdout",
     "output_type": "stream",
     "text": [
      "[[ 2  4  6]\n",
      " [ 8 10 12]\n",
      " [14 16 18]]\n",
      "[array([2, 4, 6]), array([ 8, 10, 12]), array([14, 16, 18])]\n"
     ]
    }
   ],
   "source": [
    "#5... write a python program to convert a given array to a list\n",
    "\n",
    "import numpy as np\n",
    "ar1=np.array([[2,4,6],[8,10,12],[14,16,18]])\n",
    "print(ar1)\n",
    "\n",
    "new_array=[ ]\n",
    "\n",
    "for i in ar1:\n",
    "    new_array.append(i)\n",
    "print(new_array)    \n",
    "\n"
   ]
  },
  {
   "cell_type": "code",
   "execution_count": 3,
   "id": "2d7c7c96-7057-4984-9c74-732aa5ff8b63",
   "metadata": {},
   "outputs": [
    {
     "name": "stdout",
     "output_type": "stream",
     "text": [
      "List with square of list as value = {5: 25, 4: 16, 3: 9, 2: 4, 1: 1, 6: 36}\n"
     ]
    }
   ],
   "source": [
    "#6...write a python program to create a dictionary from list that display its square as value\n",
    "\n",
    "#create your list\n",
    "Numbers=[5,4,3,2,1,6]\n",
    "square={}\n",
    "for i in Numbers:\n",
    "    square[i]= i**2\n",
    "       \n",
    "print(f\"List with square of list as value = {square}\")"
   ]
  },
  {
   "cell_type": "code",
   "execution_count": 31,
   "id": "d7042786-099e-4c2c-8f5f-cba592aa4da8",
   "metadata": {},
   "outputs": [
    {
     "name": "stdout",
     "output_type": "stream",
     "text": [
      "Number of list in nested list = 4\n"
     ]
    }
   ],
   "source": [
    "#7...write a python program to count total number of lists in a nested list\n",
    "    \n",
    "values=[[2,3,4],[3,4,5],[5,6,7],[7,8,9]]\n",
    "\n",
    "print(f\"Number of list in nested list = {len(values)}\")\n"
   ]
  },
  {
   "cell_type": "code",
   "execution_count": 6,
   "id": "e5a4bfd7-9e68-4c54-97c3-928f062e9306",
   "metadata": {},
   "outputs": [
    {
     "name": "stdin",
     "output_type": "stream",
     "text": [
      "Enter value for f 78\n"
     ]
    },
    {
     "name": "stdout",
     "output_type": "stream",
     "text": [
      "temperature in fahrenheit to kelvin = 298.7055555555555 \n",
      "temperature in fahrenheit to centigrade = 25.555555555555557\n"
     ]
    }
   ],
   "source": [
    "#8...write a python program to get temperature in fahrenheit, to convert into centigrade and kelvin \n",
    "\n",
    "f=int(input(\"Enter value for f\"))\n",
    "\n",
    "      \n",
    "#k=(f-32)*5/9+273.15\n",
    "\n",
    "#c=(f-32)*5/9\n",
    "\n",
    "\n",
    "k = (f-32) * 5/9 + 273.15\n",
    "c=(f-32)*5/9\n",
    "print(f\"Temperature in fahrenheit to kelvin = {k} \")\n",
    "print(f\"Temperature in fahrenheit to centigrade = {c}\")\n",
    "\n",
    "\n"
   ]
  },
  {
   "cell_type": "code",
   "execution_count": 18,
   "id": "94c92a86-5155-415f-889b-9fb673f3e35d",
   "metadata": {},
   "outputs": [
    {
     "name": "stdout",
     "output_type": "stream",
     "text": [
      "[4, 7, 3]\n"
     ]
    }
   ],
   "source": [
    "#9...write a python to access multiple element from a list\n",
    "\n",
    "item=[2,3,4,5,6,7,3,4,5,6,4,5,6,8,9,4]\n",
    "access_item=[-1,5,6]\n",
    "\n",
    "new_item=[item[i] for i in access_item]\n",
    "print(new_item)"
   ]
  },
  {
   "cell_type": "code",
   "execution_count": 7,
   "id": "584df561-4cb4-4b15-9516-152a8cbbff16",
   "metadata": {},
   "outputs": [
    {
     "name": "stdout",
     "output_type": "stream",
     "text": [
      "class_record = {'name': ['pop', 'tom', 'jin', 'vail'], 'age': [4, 6, 5, 4], 'best color': ['blue', 'green', 'yellow', 'red']}\n"
     ]
    }
   ],
   "source": [
    "#10...write a python program to update any value in a dictionary on user request\n",
    "class_record={'name':['jayjay','nina','vila','cody'],\n",
    "              'age':[4,6,5,4],\n",
    "                'best color':['blue','green','yellow','red']}\n",
    "\n",
    "#change the previous names with new names\n",
    "class_record['name']=['pop','tom','jin','vail']\n",
    "print(f\"class_record = {class_record}\")"
   ]
  },
  {
   "cell_type": "code",
   "execution_count": 28,
   "id": "900b4f2d-25df-4490-9e7c-5cec8836115f",
   "metadata": {},
   "outputs": [
    {
     "name": "stdout",
     "output_type": "stream",
     "text": [
      "all keys = ['name']\n",
      "all keys = ['name', 'age']\n",
      "all keys = ['name', 'age', 'best color']\n",
      "all values = [['jayjay', 'nina', 'vila', 'cody']]\n",
      "all values = [['jayjay', 'nina', 'vila', 'cody'], [4, 6, 5, 4]]\n",
      "all values = [['jayjay', 'nina', 'vila', 'cody'], [4, 6, 5, 4], ['blue', 'green', 'yellow', 'red']]\n"
     ]
    }
   ],
   "source": [
    "#11... write a python program to convert dictionary keys and values into two list one list should store keys and the other list should store values\n",
    "class_record={'name':['jayjay','nina','vila','cody'],\n",
    "              'age':[4,6,5,4],\n",
    "                'best color':['blue','green','yellow','red']}\n",
    "#sstore all the keys in a list\n",
    "new_key=[ ]\n",
    "for key in class_record.keys():\n",
    "    new_key.append(key)\n",
    "    print(f\"all keys = {new_key}\")\n",
    "\n",
    "#store all values in a list\n",
    "new_value=[ ]\n",
    "for value in class_record.values():\n",
    "    new_value.append(value)\n",
    "    print(f\"all values = {new_value}\")\n"
   ]
  },
  {
   "cell_type": "code",
   "execution_count": 18,
   "id": "59ad7398-4bd9-44ef-b162-01bf1abe5fa2",
   "metadata": {},
   "outputs": [
    {
     "name": "stdout",
     "output_type": "stream",
     "text": [
      "arr1 + arr2 = [5, 7, 9]\n"
     ]
    }
   ],
   "source": [
    "#12... write a python program to add two array\n",
    "arr1=[1,2,3]\n",
    "arr2=[4,5,6]\n",
    "result=arr1+arr2\n",
    "#print(result)\n",
    "\n",
    "result=[x+y for x,y in zip(arr1,arr2)]\n",
    "print(f\"arr1 + arr2 = {result}\")"
   ]
  },
  {
   "cell_type": "code",
   "execution_count": 19,
   "id": "9940af65-ab9a-4e77-b333-3d592a833b09",
   "metadata": {},
   "outputs": [
    {
     "name": "stdout",
     "output_type": "stream",
     "text": [
      "Most occuring element in the list = 4\n"
     ]
    }
   ],
   "source": [
    "#13...write a python program to find most occuring element in a given list  of numbers\n",
    "\n",
    "from collections import Counter\n",
    "numbers=[2,3,4,5,6,7,8,3,4,5,2,3,4,5,6,4,1,4,9,4]\n",
    "\n",
    "common_element = Counter(numbers)\n",
    "most_freq=max(common_element, key=common_element.get)\n",
    "print(f\"Most occuring element in the list = {most_freq}\")\n",
    "\n"
   ]
  },
  {
   "cell_type": "code",
   "execution_count": 21,
   "id": "c7dec384-7131-455e-929b-2b047552e544",
   "metadata": {},
   "outputs": [
    {
     "name": "stdout",
     "output_type": "stream",
     "text": [
      "{1: 'funnybone', 2: 'clint de drunk', 3: 'brain jotter', 4: 'wisabi', 5: 'arrangee'}\n",
      "funnybone\n",
      "brain jotter\n",
      "arrangee\n"
     ]
    }
   ],
   "source": [
    "#14...write a python program to filter odd number from a given dictionary keys, display only those values which have odd keys\n",
    "names={1:'funnybone',2:'clint de drunk', 3:'brain jotter', 4:'wisabi',5:'arrangee'}\n",
    "print(lst)\n",
    "\n",
    "for key, value in names.items():\n",
    "    if key%2!=0:\n",
    "        print(value)\n"
   ]
  },
  {
   "cell_type": "code",
   "execution_count": 87,
   "id": "7a33b88d-8258-4fb8-b677-1f066bed67b3",
   "metadata": {},
   "outputs": [
    {
     "name": "stdout",
     "output_type": "stream",
     "text": [
      "one\n",
      "two\n",
      "three\n",
      "four\n",
      "ten\n",
      "18\n"
     ]
    }
   ],
   "source": [
    "#15... write a python program to get the total length of all keys of a dictionary with string keys \n",
    "commedy={'one':'funnybone','two':'clint de drunk', 'three':'brain jotter', 'four':'wisabi', 'ten':'who'}\n",
    "\n",
    "\n",
    "s1=0\n",
    "for key in commedy.keys():\n",
    "    print(key)\n",
    "    s1 += len(key)\n",
    "\n",
    "print(s1)\n",
    "\n",
    "    "
   ]
  },
  {
   "cell_type": "code",
   "execution_count": 67,
   "id": "7ddd6889-f57a-4229-8b80-8100a8a10f6b",
   "metadata": {},
   "outputs": [
    {
     "name": "stdout",
     "output_type": "stream",
     "text": [
      "[[1 2 3]\n",
      " [8 6 4]\n",
      " [7 8 9]]\n",
      "[[ True  True  True]\n",
      " [ True  True  True]\n",
      " [ True  True  True]]\n"
     ]
    }
   ],
   "source": [
    "#### 16...write a python program to convert an array element to boolean value\n",
    "\n",
    "import numpy as np\n",
    "arr=np.array([[1,2,3],[8,6,4],[7,8,9]])\n",
    "print(arr)\n",
    "bool_arr=arr.astype('bool')\n",
    "print(bool_arr)\n"
   ]
  },
  {
   "cell_type": "code",
   "execution_count": 30,
   "id": "832d34ae-dccf-4372-aa98-f6c2ae91bdef",
   "metadata": {},
   "outputs": [
    {
     "name": "stdout",
     "output_type": "stream",
     "text": [
      "Values with uppercase are :['DADDY WA', 'BASKETMOUTH']\n"
     ]
    }
   ],
   "source": [
    "#17... write a python program to create a list from existed list that contains uppercase \n",
    "commedians=['funnybone','clint de drunk','brain jotter','DADDY WA', 'BASKETMOUTH','wisabi']\n",
    "new_list=[i for i in commedians\n",
    "         if i.isupper()]\n",
    "print(f\"Values with uppercase are :{new_list}\")"
   ]
  },
  {
   "cell_type": "code",
   "execution_count": 32,
   "id": "c66dfdea-4515-482f-bc94-1014e093347f",
   "metadata": {},
   "outputs": [
    {
     "name": "stdout",
     "output_type": "stream",
     "text": [
      "funnybone\n",
      "clint de drunk\n",
      "brain jotter\n",
      "daddy wa\n",
      "wisabi\n"
     ]
    }
   ],
   "source": [
    "#18... write a python program to create a dicionary  which display those value which have vowel character\n",
    "commedians={1:'funnybone',2:'clint de drunk',3:'brain jotter',4:'daddy wa', 5:'bsktmth',6:'wisabi'}\n",
    "\n",
    "for key,value in commedians.items():\n",
    "    if 'a' in value or 'e' in value or 'i' in value or 'o' in value or 'u' in value:\n",
    "        print(value)"
   ]
  },
  {
   "cell_type": "code",
   "execution_count": 14,
   "id": "b88eae0b-da51-4838-8417-4b6fcb43cd33",
   "metadata": {},
   "outputs": [
    {
     "name": "stdin",
     "output_type": "stream",
     "text": [
      "enter a number 5\n"
     ]
    },
    {
     "name": "stdout",
     "output_type": "stream",
     "text": [
      "[0. 0. 0. 0. 0.]\n"
     ]
    }
   ],
   "source": [
    "#19... write a python program to create an array  of zero according to user entered number\n",
    "\n",
    "import numpy as np\n",
    "user_num=int(input(\"enter a number\"))\n",
    "ar=np.zeros(user_num)\n",
    "print(ar)"
   ]
  },
  {
   "cell_type": "code",
   "execution_count": 61,
   "id": "bba2fad3-9307-490d-9195-8d9ffb0b602a",
   "metadata": {},
   "outputs": [
    {
     "name": "stdin",
     "output_type": "stream",
     "text": [
      "Enter a pwd tyr56\n"
     ]
    },
    {
     "name": "stdout",
     "output_type": "stream",
     "text": [
      "pswd is incorrect\n"
     ]
    }
   ],
   "source": [
    "#20...write a python program to get password from the user that contains alphanumeric and more than 8 and less than \n",
    "#20 characters\n",
    "\n",
    "#get password from user\n",
    "pswd=input(\"Enter a pwd\")\n",
    "\n",
    "#give condition and print\n",
    "if (pswd.isalnum()) and len(pswd) < 20 and len(pswd) >8:\n",
    "    print(\"pswd is correct\")\n",
    "else:\n",
    "     print(\"pswd is incorrect\")"
   ]
  },
  {
   "cell_type": "code",
   "execution_count": 62,
   "id": "4fcece06-d571-425a-b7c9-5ba044fa4c3c",
   "metadata": {},
   "outputs": [
    {
     "name": "stdout",
     "output_type": "stream",
     "text": [
      "{'name': ['jayjay', 'nina', 'vila', 'cody'], 'age': [4, 6, 5, 4], 'best color': ['blue', 'green', 'yellow', 'red'], 'weight': [12, 14, 13, 15]}\n"
     ]
    }
   ],
   "source": [
    "#21...write a python program to update any key in a dictionary on user request\n",
    "class_record={'name':['jayjay','nina','vila','cody'],\n",
    "              'age':[4,6,5,4],\n",
    "                'best color':['blue','green','yellow','red']}\n",
    "\n",
    "\n",
    "class_record['weight']=[12,14,13,15]\n",
    "\n",
    "print(class_record)"
   ]
  },
  {
   "cell_type": "code",
   "execution_count": 1,
   "id": "ef1a59d9-3646-4f40-b810-b63dc9ca51b0",
   "metadata": {},
   "outputs": [
    {
     "name": "stdout",
     "output_type": "stream",
     "text": [
      "The list is empty\n"
     ]
    }
   ],
   "source": [
    "#22...\n",
    "my_list = [' ']\n",
    "if my_list==True:\n",
    "    print(\"The list is not empty\")\n",
    "else:\n",
    "    print(\"The list is empty\")\n",
    "    "
   ]
  },
  {
   "cell_type": "code",
   "execution_count": 3,
   "id": "496e177c-ed9b-488e-a26e-e6a76c2b266b",
   "metadata": {},
   "outputs": [
    {
     "name": "stdout",
     "output_type": "stream",
     "text": [
      "False\n"
     ]
    }
   ],
   "source": [
    "#23...\n",
    "y=(1<2) and (2<3) and (3>4)\n",
    "print(y)"
   ]
  },
  {
   "cell_type": "code",
   "execution_count": 70,
   "id": "5905c5f9-599e-4d5e-8c79-11000b97226f",
   "metadata": {},
   "outputs": [
    {
     "name": "stdout",
     "output_type": "stream",
     "text": [
      "peace\n"
     ]
    }
   ],
   "source": [
    "#24...return the longest string in the list of string, if there is a tie, return the string with highest index\n",
    "names=['love', 'hope', 'peace', 'joy', 'grace']\n",
    "print(max(names))"
   ]
  },
  {
   "cell_type": "code",
   "execution_count": 34,
   "id": "6d22f07b-f5cc-4fb7-bdc3-dad82243896f",
   "metadata": {},
   "outputs": [
    {
     "name": "stdout",
     "output_type": "stream",
     "text": [
      "computer selected a number from 1 to 100 (inclusive), now its your turn - \n"
     ]
    },
    {
     "name": "stdin",
     "output_type": "stream",
     "text": [
      "enter the guessed number -  65\n"
     ]
    },
    {
     "name": "stdout",
     "output_type": "stream",
     "text": [
      "\n",
      "\tbigger number please\n"
     ]
    },
    {
     "name": "stdin",
     "output_type": "stream",
     "text": [
      "enter the guessed number -  85\n"
     ]
    },
    {
     "name": "stdout",
     "output_type": "stream",
     "text": [
      "\n",
      "\tbigger number please\n"
     ]
    },
    {
     "name": "stdin",
     "output_type": "stream",
     "text": [
      "enter the guessed number -  95\n"
     ]
    },
    {
     "name": "stdout",
     "output_type": "stream",
     "text": [
      "\tsmaller number please\n"
     ]
    },
    {
     "name": "stdin",
     "output_type": "stream",
     "text": [
      "enter the guessed number -  90\n"
     ]
    },
    {
     "name": "stdout",
     "output_type": "stream",
     "text": [
      "\tsmaller number please\n"
     ]
    },
    {
     "name": "stdin",
     "output_type": "stream",
     "text": [
      "enter the guessed number -  87\n"
     ]
    },
    {
     "name": "stdout",
     "output_type": "stream",
     "text": [
      "\n",
      "\tbigger number please\n"
     ]
    },
    {
     "name": "stdin",
     "output_type": "stream",
     "text": [
      "enter the guessed number -  89\n"
     ]
    },
    {
     "name": "stdout",
     "output_type": "stream",
     "text": [
      "\tsmaller number please\n"
     ]
    },
    {
     "name": "stdin",
     "output_type": "stream",
     "text": [
      "enter the guessed number -  88\n"
     ]
    },
    {
     "name": "stdout",
     "output_type": "stream",
     "text": [
      "\n",
      "you got it right\n",
      "number of turns - 7\n"
     ]
    }
   ],
   "source": [
    "#25...Create a guessing game\n",
    "\n",
    "import random\n",
    "\n",
    "#declare computer to select a random number \n",
    "num=random.randint(1,100)\n",
    "print(\"computer selected a number from 1 to 100 (inclusive), now its your turn - \")\n",
    "turns=0\n",
    "\n",
    "#input your guesses number\n",
    "while True:\n",
    "    guess=int(input(\"enter the guessed number - \"))\n",
    "    if (guess==num):\n",
    "        print(\"\\nyou got it right\")\n",
    "        break\n",
    "#if your number is bigger...\n",
    "    elif (guess<num):\n",
    "        print(\"\\n\\tbigger number please\")\n",
    "        turns+=1 \n",
    "#if your number is smaller\n",
    "    elif (guess>num):\n",
    "        print(\"\\tsmaller number please\")\n",
    "        turns+=1\n",
    "#when you finally get it right, declare how many trial it took you\n",
    "print(\"number of turns -\", turns+1)"
   ]
  },
  {
   "cell_type": "code",
   "execution_count": null,
   "id": "11372b6d-98ac-4437-9dd3-59bed2e88606",
   "metadata": {},
   "outputs": [],
   "source": []
  }
 ],
 "metadata": {
  "kernelspec": {
   "display_name": "Python 3 (ipykernel)",
   "language": "python",
   "name": "python3"
  },
  "language_info": {
   "codemirror_mode": {
    "name": "ipython",
    "version": 3
   },
   "file_extension": ".py",
   "mimetype": "text/x-python",
   "name": "python",
   "nbconvert_exporter": "python",
   "pygments_lexer": "ipython3",
   "version": "3.11.5"
  }
 },
 "nbformat": 4,
 "nbformat_minor": 5
}
